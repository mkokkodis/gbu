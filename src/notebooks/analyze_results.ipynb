{
 "cells": [
  {
   "cell_type": "markdown",
   "source": [
    "# Create predictions and analyze the results\n",
    "\n",
    "- Author: Marios Kokkodis \n",
    "- email: marios.kokkodis@gmail.com \n",
    "\n",
    "> Python notes: tested on PY38\n",
    "\n",
    "\n",
    "#### Steps to evaluate\n",
    "\n",
    "To evaluate in detail each algorithm we need:\n",
    "\n",
    "1. Find the best hyperparameters $\\times$ features for each fold based on validation performance (see [train.py](../python/train.py) for implementation details)\n",
    "2. Based on best validation performance, use the appropriate trained model  to get predictions for the test set.\n",
    "3. Create the necessary output file for the evaluation plots."
   ],
   "metadata": {
    "collapsed": false
   }
  },
  {
   "cell_type": "code",
   "execution_count": 1,
   "outputs": [],
   "source": [
    "import pandas as pd\n",
    "import numpy as np\n",
    "from sklearn.metrics import roc_auc_score\n",
    "import sys\n",
    "from os import path\n",
    "if '../python/' not in sys.path: sys.path.insert(1, '../python/')\n",
    "import custom_util_functions\n",
    "from importlib import reload\n",
    "reload(custom_util_functions)\n",
    "from custom_util_functions import print_border_line,get_ranking_performance,get_within_opening_perf\n",
    "from custom_util_functions import write_best_validation_models\n",
    "header = ['model_key', 'fold' , 'algorithm', 'validation_average_auc', 'validation_auc_positive']\n"
   ],
   "metadata": {
    "collapsed": false,
    "pycharm": {
     "name": "#%%\n"
    }
   }
  },
  {
   "cell_type": "markdown",
   "metadata": {
    "pycharm": {
     "name": "#%% md\n"
    }
   },
   "source": [
    "### Step 1: Choose best specification based on validation performance for each algorithm and fold"
   ]
  },
  {
   "cell_type": "code",
   "execution_count": 2,
   "metadata": {
    "collapsed": false,
    "jupyter": {
     "outputs_hidden": false
    },
    "pycharm": {
     "name": "#%%\n"
    }
   },
   "outputs": [
    {
     "name": "stdout",
     "output_type": "stream",
     "text": [
      "Algorithm: logit \n",
      "  >>total specifications tested on validation set range between 10 and 30\n",
      "Algorithm: svm \n",
      "  >>total specifications tested on validation set range between 10 and 30\n",
      "Algorithm: xg \n",
      "  >>total specifications tested on validation set range between 180 and 540\n",
      "Algorithm: rf \n",
      "  >>total specifications tested on validation set range between 90 and 270\n",
      "Algorithm: lstm \n",
      "  >>total specifications tested on validation set range between 180 and 540\n",
      "Algorithm: hmm \n",
      "  >>total specifications tested on validation set range between 20 and 60\n",
      "Algorithm: sahoo \n",
      "  >>total specifications tested on validation set: 20\n"
     ]
    }
   ],
   "source": [
    "focalModels = ['logit','svm','xg','rf','lstm','hmm','sahoo']\n",
    "fout = open(\"../../data/evaluation_results/model_selection.csv\",\"w\")\n",
    "fout.write('fold,algorithm,model_key\\n')#cur_avg,cur_avg_pos,\n",
    "for algorithm in focalModels:\n",
    "    d = pd.read_csv(\"../../data/results/\"+algorithm+\".csv\", names = header)\n",
    "    if algorithm == 'sahoo':\n",
    "        print(\"Algorithm:\",algorithm, \"\\n  >>total specifications tested on validation set:\", len(d))\n",
    "    else:\n",
    "        print(\"Algorithm:\",algorithm, \"\\n  >>total specifications tested on validation set range between\", len(d),\n",
    "              \"and\",len(d) * 3)\n",
    "    write_best_validation_models(d,algorithm,fout) #'average_auc' auc_positive)\n",
    "fout.close()\n",
    "\n",
    "\n"
   ]
  },
  {
   "cell_type": "markdown",
   "source": [
    "### Step 2: Use the best specifications to make predictions on the test set"
   ],
   "metadata": {
    "collapsed": false,
    "pycharm": {
     "name": "#%% md\n"
    }
   }
  },
  {
   "cell_type": "code",
   "execution_count": 3,
   "metadata": {
    "collapsed": false,
    "jupyter": {
     "outputs_hidden": false
    },
    "pycharm": {
     "name": "#%%\n"
    }
   },
   "outputs": [
    {
     "name": "stdout",
     "output_type": "stream",
     "text": [
      "Raw predictions for  logit  fold 0 posted in: ../../data/raw_predictions/\r\n",
      "Raw predictions for  logit  fold 1 posted in: ../../data/raw_predictions/\r\n",
      "Raw predictions for  logit  fold 2 posted in: ../../data/raw_predictions/\r\n",
      "Raw predictions for  logit  fold 3 posted in: ../../data/raw_predictions/\r\n",
      "Raw predictions for  logit  fold 4 posted in: ../../data/raw_predictions/\r\n",
      "Raw predictions for  logit  fold 5 posted in: ../../data/raw_predictions/\r\n",
      "Raw predictions for  logit  fold 6 posted in: ../../data/raw_predictions/\r\n",
      "Raw predictions for  logit  fold 7 posted in: ../../data/raw_predictions/\r\n",
      "Raw predictions for  logit  fold 8 posted in: ../../data/raw_predictions/\r\n",
      "Raw predictions for  logit  fold 9 posted in: ../../data/raw_predictions/\r\n",
      "Raw predictions for  svm  fold 0 posted in: ../../data/raw_predictions/\r\n",
      "Raw predictions for  svm  fold 1 posted in: ../../data/raw_predictions/\r\n",
      "Raw predictions for  svm  fold 2 posted in: ../../data/raw_predictions/\r\n",
      "Raw predictions for  svm  fold 3 posted in: ../../data/raw_predictions/\r\n",
      "Raw predictions for  svm  fold 4 posted in: ../../data/raw_predictions/\r\n",
      "Raw predictions for  svm  fold 5 posted in: ../../data/raw_predictions/\r\n",
      "Raw predictions for  svm  fold 6 posted in: ../../data/raw_predictions/\r\n",
      "Raw predictions for  svm  fold 7 posted in: ../../data/raw_predictions/\r\n",
      "Raw predictions for  svm  fold 8 posted in: ../../data/raw_predictions/\r\n",
      "Raw predictions for  svm  fold 9 posted in: ../../data/raw_predictions/\r\n",
      "Raw predictions for  xg  fold 0 posted in: ../../data/raw_predictions/\r\n",
      "Raw predictions for  xg  fold 1 posted in: ../../data/raw_predictions/\r\n",
      "Raw predictions for  xg  fold 2 posted in: ../../data/raw_predictions/\r\n",
      "Raw predictions for  xg  fold 3 posted in: ../../data/raw_predictions/\r\n",
      "Raw predictions for  xg  fold 4 posted in: ../../data/raw_predictions/\r\n",
      "Raw predictions for  xg  fold 5 posted in: ../../data/raw_predictions/\r\n",
      "Raw predictions for  xg  fold 6 posted in: ../../data/raw_predictions/\r\n",
      "Raw predictions for  xg  fold 7 posted in: ../../data/raw_predictions/\r\n",
      "Raw predictions for  xg  fold 8 posted in: ../../data/raw_predictions/\r\n",
      "Raw predictions for  xg  fold 9 posted in: ../../data/raw_predictions/\r\n",
      "Raw predictions for  rf  fold 0 posted in: ../../data/raw_predictions/\r\n",
      "Raw predictions for  rf  fold 1 posted in: ../../data/raw_predictions/\r\n",
      "Raw predictions for  rf  fold 2 posted in: ../../data/raw_predictions/\r\n",
      "Raw predictions for  rf  fold 3 posted in: ../../data/raw_predictions/\r\n",
      "Raw predictions for  rf  fold 4 posted in: ../../data/raw_predictions/\r\n",
      "Raw predictions for  rf  fold 5 posted in: ../../data/raw_predictions/\r\n",
      "Raw predictions for  rf  fold 6 posted in: ../../data/raw_predictions/\r\n",
      "Raw predictions for  rf  fold 7 posted in: ../../data/raw_predictions/\r\n",
      "Raw predictions for  rf  fold 8 posted in: ../../data/raw_predictions/\r\n",
      "Raw predictions for  rf  fold 9 posted in: ../../data/raw_predictions/\r\n",
      "2021-03-05 20:46:53.909890: I tensorflow/compiler/jit/xla_cpu_device.cc:41] Not creating XLA devices, tf_xla_enable_xla_devices not set\r\n",
      "2021-03-05 20:46:53.910036: I tensorflow/core/platform/cpu_feature_guard.cc:142] This TensorFlow binary is optimized with oneAPI Deep Neural Network Library (oneDNN) to use the following CPU instructions in performance-critical operations:  AVX2 FMA\r\n",
      "To enable them in other operations, rebuild TensorFlow with the appropriate compiler flags.\r\n",
      "2021-03-05 20:46:54.046840: I tensorflow/compiler/mlir/mlir_graph_optimization_pass.cc:116] None of the MLIR optimization passes are enabled (registered 2)\r\n",
      "Raw predictions for  lstm  fold 0 posted in: ../../data/raw_predictions/\r\n",
      "2021-03-05 20:46:57.523199: I tensorflow/compiler/jit/xla_cpu_device.cc:41] Not creating XLA devices, tf_xla_enable_xla_devices not set\r\n",
      "2021-03-05 20:46:57.523344: I tensorflow/core/platform/cpu_feature_guard.cc:142] This TensorFlow binary is optimized with oneAPI Deep Neural Network Library (oneDNN) to use the following CPU instructions in performance-critical operations:  AVX2 FMA\r\n",
      "To enable them in other operations, rebuild TensorFlow with the appropriate compiler flags.\r\n",
      "2021-03-05 20:46:57.613934: I tensorflow/compiler/mlir/mlir_graph_optimization_pass.cc:116] None of the MLIR optimization passes are enabled (registered 2)\r\n",
      "Raw predictions for  lstm  fold 1 posted in: ../../data/raw_predictions/\r\n",
      "2021-03-05 20:47:01.325496: I tensorflow/compiler/jit/xla_cpu_device.cc:41] Not creating XLA devices, tf_xla_enable_xla_devices not set\r\n",
      "2021-03-05 20:47:01.325644: I tensorflow/core/platform/cpu_feature_guard.cc:142] This TensorFlow binary is optimized with oneAPI Deep Neural Network Library (oneDNN) to use the following CPU instructions in performance-critical operations:  AVX2 FMA\r\n",
      "To enable them in other operations, rebuild TensorFlow with the appropriate compiler flags.\r\n",
      "2021-03-05 20:47:01.419684: I tensorflow/compiler/mlir/mlir_graph_optimization_pass.cc:116] None of the MLIR optimization passes are enabled (registered 2)\r\n",
      "Raw predictions for  lstm  fold 2 posted in: ../../data/raw_predictions/\r\n",
      "2021-03-05 20:47:04.988955: I tensorflow/compiler/jit/xla_cpu_device.cc:41] Not creating XLA devices, tf_xla_enable_xla_devices not set\r\n",
      "2021-03-05 20:47:04.989102: I tensorflow/core/platform/cpu_feature_guard.cc:142] This TensorFlow binary is optimized with oneAPI Deep Neural Network Library (oneDNN) to use the following CPU instructions in performance-critical operations:  AVX2 FMA\r\n",
      "To enable them in other operations, rebuild TensorFlow with the appropriate compiler flags.\r\n",
      "2021-03-05 20:47:05.102493: I tensorflow/compiler/mlir/mlir_graph_optimization_pass.cc:116] None of the MLIR optimization passes are enabled (registered 2)\r\n",
      "Raw predictions for  lstm  fold 3 posted in: ../../data/raw_predictions/\r\n",
      "2021-03-05 20:47:08.704484: I tensorflow/compiler/jit/xla_cpu_device.cc:41] Not creating XLA devices, tf_xla_enable_xla_devices not set\r\n",
      "2021-03-05 20:47:08.704718: I tensorflow/core/platform/cpu_feature_guard.cc:142] This TensorFlow binary is optimized with oneAPI Deep Neural Network Library (oneDNN) to use the following CPU instructions in performance-critical operations:  AVX2 FMA\r\n",
      "To enable them in other operations, rebuild TensorFlow with the appropriate compiler flags.\r\n",
      "2021-03-05 20:47:08.800565: I tensorflow/compiler/mlir/mlir_graph_optimization_pass.cc:116] None of the MLIR optimization passes are enabled (registered 2)\r\n",
      "Raw predictions for  lstm  fold 4 posted in: ../../data/raw_predictions/\r\n",
      "2021-03-05 20:47:12.326168: I tensorflow/compiler/jit/xla_cpu_device.cc:41] Not creating XLA devices, tf_xla_enable_xla_devices not set\r\n",
      "2021-03-05 20:47:12.326323: I tensorflow/core/platform/cpu_feature_guard.cc:142] This TensorFlow binary is optimized with oneAPI Deep Neural Network Library (oneDNN) to use the following CPU instructions in performance-critical operations:  AVX2 FMA\r\n",
      "To enable them in other operations, rebuild TensorFlow with the appropriate compiler flags.\r\n",
      "2021-03-05 20:47:12.472896: I tensorflow/compiler/mlir/mlir_graph_optimization_pass.cc:116] None of the MLIR optimization passes are enabled (registered 2)\r\n",
      "Raw predictions for  lstm  fold 5 posted in: ../../data/raw_predictions/\r\n",
      "2021-03-05 20:47:16.691075: I tensorflow/compiler/jit/xla_cpu_device.cc:41] Not creating XLA devices, tf_xla_enable_xla_devices not set\r\n",
      "2021-03-05 20:47:16.691224: I tensorflow/core/platform/cpu_feature_guard.cc:142] This TensorFlow binary is optimized with oneAPI Deep Neural Network Library (oneDNN) to use the following CPU instructions in performance-critical operations:  AVX2 FMA\r\n",
      "To enable them in other operations, rebuild TensorFlow with the appropriate compiler flags.\r\n",
      "2021-03-05 20:47:16.797568: I tensorflow/compiler/mlir/mlir_graph_optimization_pass.cc:116] None of the MLIR optimization passes are enabled (registered 2)\r\n",
      "Raw predictions for  lstm  fold 6 posted in: ../../data/raw_predictions/\r\n",
      "2021-03-05 20:47:20.551914: I tensorflow/compiler/jit/xla_cpu_device.cc:41] Not creating XLA devices, tf_xla_enable_xla_devices not set\r\n",
      "2021-03-05 20:47:20.552075: I tensorflow/core/platform/cpu_feature_guard.cc:142] This TensorFlow binary is optimized with oneAPI Deep Neural Network Library (oneDNN) to use the following CPU instructions in performance-critical operations:  AVX2 FMA\r\n",
      "To enable them in other operations, rebuild TensorFlow with the appropriate compiler flags.\r\n",
      "2021-03-05 20:47:20.663896: I tensorflow/compiler/mlir/mlir_graph_optimization_pass.cc:116] None of the MLIR optimization passes are enabled (registered 2)\r\n",
      "Raw predictions for  lstm  fold 7 posted in: ../../data/raw_predictions/\r\n",
      "2021-03-05 20:47:24.360573: I tensorflow/compiler/jit/xla_cpu_device.cc:41] Not creating XLA devices, tf_xla_enable_xla_devices not set\r\n",
      "2021-03-05 20:47:24.360720: I tensorflow/core/platform/cpu_feature_guard.cc:142] This TensorFlow binary is optimized with oneAPI Deep Neural Network Library (oneDNN) to use the following CPU instructions in performance-critical operations:  AVX2 FMA\r\n",
      "To enable them in other operations, rebuild TensorFlow with the appropriate compiler flags.\r\n",
      "2021-03-05 20:47:24.455844: I tensorflow/compiler/mlir/mlir_graph_optimization_pass.cc:116] None of the MLIR optimization passes are enabled (registered 2)\r\n",
      "Raw predictions for  lstm  fold 8 posted in: ../../data/raw_predictions/\r\n",
      "2021-03-05 20:47:27.835455: I tensorflow/compiler/jit/xla_cpu_device.cc:41] Not creating XLA devices, tf_xla_enable_xla_devices not set\r\n",
      "2021-03-05 20:47:27.835601: I tensorflow/core/platform/cpu_feature_guard.cc:142] This TensorFlow binary is optimized with oneAPI Deep Neural Network Library (oneDNN) to use the following CPU instructions in performance-critical operations:  AVX2 FMA\r\n",
      "To enable them in other operations, rebuild TensorFlow with the appropriate compiler flags.\r\n",
      "2021-03-05 20:47:27.924673: I tensorflow/compiler/mlir/mlir_graph_optimization_pass.cc:116] None of the MLIR optimization passes are enabled (registered 2)\r\n",
      "Raw predictions for  lstm  fold 9 posted in: ../../data/raw_predictions/\r\n",
      "Raw predictions for  hmm  fold 0 posted in: ../../data/raw_predictions/\r\n",
      "Raw predictions for  hmm  fold 1 posted in: ../../data/raw_predictions/\r\n",
      "Raw predictions for  hmm  fold 2 posted in: ../../data/raw_predictions/\r\n",
      "Raw predictions for  hmm  fold 3 posted in: ../../data/raw_predictions/\r\n",
      "Raw predictions for  hmm  fold 4 posted in: ../../data/raw_predictions/\r\n",
      "Raw predictions for  hmm  fold 5 posted in: ../../data/raw_predictions/\r\n",
      "Raw predictions for  hmm  fold 6 posted in: ../../data/raw_predictions/\r\n",
      "Raw predictions for  hmm  fold 7 posted in: ../../data/raw_predictions/\r\n",
      "Raw predictions for  hmm  fold 8 posted in: ../../data/raw_predictions/\r\n",
      "Raw predictions for  hmm  fold 9 posted in: ../../data/raw_predictions/\r\n",
      "Raw predictions for sahoo fold 0 posted in: ../../data/raw_predictions/\r\n",
      "Raw predictions for sahoo fold 1 posted in: ../../data/raw_predictions/\r\n",
      "Raw predictions for sahoo fold 2 posted in: ../../data/raw_predictions/\r\n",
      "Raw predictions for sahoo fold 3 posted in: ../../data/raw_predictions/\r\n",
      "Raw predictions for sahoo fold 4 posted in: ../../data/raw_predictions/\r\n",
      "Raw predictions for sahoo fold 5 posted in: ../../data/raw_predictions/\r\n",
      "Raw predictions for sahoo fold 6 posted in: ../../data/raw_predictions/\r\n",
      "Raw predictions for sahoo fold 7 posted in: ../../data/raw_predictions/\r\n",
      "Raw predictions for sahoo fold 8 posted in: ../../data/raw_predictions/\r\n",
      "Raw predictions for sahoo fold 9 posted in: ../../data/raw_predictions/\r\n"
     ]
    }
   ],
   "source": [
    "d = pd.read_csv(\"../../data/evaluation_results/model_selection.csv\")\n",
    "l = []\n",
    "for _,row in d.iterrows():\n",
    "\n",
    "    a = row['algorithm']\n",
    "    if 'hmm' == a:\n",
    "        fold,states = row['model_key'].split(\"::\")\n",
    "        !python ../python/train.py -a $a -f $fold -s $states    -P -o\n",
    "    elif a in ['logit','svm']:\n",
    "        fold = row['model_key']\n",
    "        !python ../python/train.py -a $a -f $fold -P -o\n",
    "    elif a == 'rf':\n",
    "        fold, max_depth,n_estimators = row['model_key'].split(\"::\")\n",
    "        !python ../python/train.py -a $a -f $fold -P -o -d $max_depth -e $n_estimators\n",
    "    elif a == 'lstm':\n",
    "        fold,batch_size,epochs,stacked  = row['model_key'].split(\"_\")\n",
    "        if stacked == 'True':\n",
    "            !python ../python/../python/train_lstm.py -a $a -f $fold -P -o  -e $epochs -b $batch_size -C\n",
    "        else:\n",
    "            !python ../python/../python/train_lstm.py -a $a -f $fold -P -o  -e $epochs -b $batch_size\n",
    "    elif a == 'xg':\n",
    "        fold, n_estimators, subsample,  max_depth = row['model_key'].split(\"::\")\n",
    "        !python ../python/train.py -a $a -f $fold -P -o  -d $max_depth -e $n_estimators -S $subsample\n",
    "    elif a == 'sahoo':\n",
    "        fold,states = row['model_key'].split(\"_\")\n",
    "        !python ../python/train_sahoo.py -f $fold  -s $states -P -o\n",
    "\n",
    "\n",
    "\n",
    "\n",
    "\n",
    "\n"
   ]
  },
  {
   "cell_type": "markdown",
   "source": [
    "### Step 3: Create the AUC-N file (to be used in [R2-plots.Rmd](../R/R2-plots.Rmd))"
   ],
   "metadata": {
    "collapsed": false
   }
  },
  {
   "cell_type": "code",
   "execution_count": 4,
   "metadata": {
    "collapsed": false,
    "jupyter": {
     "outputs_hidden": false
    },
    "pycharm": {
     "name": "#%%\n"
    }
   },
   "outputs": [
    {
     "name": "stdout",
     "output_type": "stream",
     "text": [
      "parsing results for  hmm\n",
      "parsing results for  logit\n",
      "parsing results for  rf\n",
      "parsing results for  svm\n",
      "parsing results for  xg\n",
      "parsing results for  lstm\n",
      "parsing results for  cnn\n",
      "parsing results for  svdbinary\n",
      "parsing results for  svdbinaryexplicit\n",
      "parsing results for  svdtrinary\n",
      "parsing results for  svdtrinaryexplicit\n",
      "parsing results for  sahoo\n",
      "parsing results for  hmm\n"
     ]
    }
   ],
   "source": [
    "models = {}\n",
    "models['single_assessment'] = ['hmm','logit','rf','svm','xg','lstm']\n",
    "models['many_assessment'] = ['cnn','svdbinary','svdbinaryexplicit','svdtrinary','svdtrinaryexplicit','sahoo','hmm']\n",
    "n_variable = 'employer_total_tasks_so_far'\n",
    "for m in ['single_assessment','many_assessment']:\n",
    "    fout = open(\"../../data/evaluation_results/auc_\"+m+\".csv\",\"w\")\n",
    "    fout.write('algorithm,n,score,fold\\n')\n",
    "    for algorithm in models[m]:\n",
    "        print(\"parsing results for \",algorithm)\n",
    "        for fold in range(10):\n",
    "            if not path.exists(\"../../data/raw_predictions/\"+algorithm+str(fold)+\".csv\"): continue\n",
    "            res = pd.read_csv(\"../../data/raw_predictions/\"+algorithm+str(fold)+\".csv\")\n",
    "            maxHiresInTest = res[n_variable].max()-3\n",
    "            thr = 20 if maxHiresInTest >  20 else maxHiresInTest\n",
    "            for n in range(thr):\n",
    "                curDf = res[(res[n_variable]>=n)]\n",
    "                if len(np.unique(curDf.hire_positive_truth))==1: continue #AUC score needs both positive and negative\n",
    "                if 'label_2' in curDf.columns:\n",
    "                    curScore = roc_auc_score(curDf['hire_positive_truth'].to_numpy(),curDf['label_2'].to_numpy())\n",
    "                else:\n",
    "                    curScore = roc_auc_score(curDf['hire_positive_truth'].to_numpy(),curDf['label_1'].to_numpy())\n",
    "                fout.write(algorithm+\",\"+str(n)+\",\"+str(curScore)+\",\"+str(fold)+'\\n')\n",
    "    fout.close()"
   ]
  },
  {
   "cell_type": "markdown",
   "metadata": {},
   "source": [
    "### Step 4: Ranking performance and  Lift"
   ]
  },
  {
   "cell_type": "code",
   "execution_count": 5,
   "metadata": {
    "collapsed": false,
    "jupyter": {
     "outputs_hidden": false
    },
    "pycharm": {
     "name": "#%%\n"
    }
   },
   "outputs": [
    {
     "name": "stdout",
     "output_type": "stream",
     "text": [
      "parsing results for  hmm\n",
      "parsing results for  logit\n",
      "parsing results for  rf\n",
      "parsing results for  svm\n",
      "parsing results for  xg\n",
      "parsing results for  lstm\n"
     ]
    }
   ],
   "source": [
    "fout = open(\"../../data/evaluation_results/ranking_performance.csv\",\"w\")\n",
    "fout.write('algorithm,prc,score,fold\\n')\n",
    "for algorithm in models['single_assessment']:\n",
    "    print(\"parsing results for \",algorithm)\n",
    "    for fold in range(10):\n",
    "        curRes = pd.read_csv(\"../../data/raw_predictions/\"+algorithm+str(fold)+\".csv\")\n",
    "        if 'label_2' not in curRes.columns: curRes['label_2'] = curRes['label_1']\n",
    "        g = get_ranking_performance(curRes)\n",
    "        for ind,row in g.iterrows():\n",
    "            fout.write(algorithm+\",\"+str(row['percentile'])+\",\"+str(row['rate'])+\",\"+str(fold)+'\\n')\n",
    "fout.close()\n"
   ]
  },
  {
   "cell_type": "markdown",
   "metadata": {},
   "source": [
    "### Within-task (opening) evaluation"
   ]
  },
  {
   "cell_type": "code",
   "execution_count": 6,
   "metadata": {
    "collapsed": false,
    "jupyter": {
     "outputs_hidden": false
    },
    "pycharm": {
     "name": "#%%\n"
    }
   },
   "outputs": [
    {
     "data": {
      "text/plain": "10"
     },
     "execution_count": 6,
     "metadata": {},
     "output_type": "execute_result"
    }
   ],
   "source": [
    "#create opening -> total apps index using one algorithm (any):\n",
    "opTotalApps = {}\n",
    "for fold in range(10):\n",
    "    focalDf = pd.read_csv(\"../../data/raw_predictions/logit\"+str(fold)+\".csv\")\n",
    "    grouped = focalDf[['task_id','application']].groupby(['task_id'],as_index=False).count()\n",
    "    opTotalApps[fold] = { row['task_id']:row['application'] for _,row in grouped.iterrows()}\n",
    "len(opTotalApps)\n"
   ]
  },
  {
   "cell_type": "code",
   "execution_count": 7,
   "metadata": {
    "collapsed": false,
    "jupyter": {
     "outputs_hidden": false
    },
    "pycharm": {
     "name": "#%%\n"
    }
   },
   "outputs": [
    {
     "name": "stdout",
     "output_type": "stream",
     "text": [
      "parsing results for  hmm\n",
      "parsing results for  logit\n",
      "parsing results for  rf\n",
      "parsing results for  svm\n",
      "parsing results for  xg\n",
      "parsing results for  lstm\n"
     ]
    }
   ],
   "source": [
    "fout = open(\"../../data/evaluation_results/within_openings.csv\",\"w\")\n",
    "fout.write('algorithm,n,score,fold,metric,employer_total_tasks_so_far\\n')\n",
    "for algorithm in models['single_assessment']:\n",
    "    print(\"parsing results for \",algorithm)\n",
    "    top_n_thr = 17 #top 25% of options within each opening.\n",
    "    for fold in range(10):\n",
    "        curRes = pd.read_csv(\"../../data/raw_predictions/\"+algorithm+str(fold)+\".csv\")\n",
    "        if 'task_id' not in curRes.columns: curRes['task_id'] = curRes['choicesetId']\n",
    "        if 'label_2' not in curRes.columns: curRes['label_2'] = curRes['label_1']\n",
    "        nRes = get_within_opening_perf(curRes,opTotalApps[fold],top_n_thr)\n",
    "        for curT,nResIn in nRes.items():\n",
    "            for ed,vdic in nResIn.items():\n",
    "                for k,v in vdic.items():\n",
    "                    fout.write(algorithm+\",\"+str(k)+\",\"+str(v)+\",\"+str(fold)+\",\"+curT+\",\"+str(ed)+'\\n')\n",
    "fout.close()\n",
    "\n",
    "\n",
    "\n",
    "\n",
    "\n",
    "\n",
    "\n"
   ]
  }
 ],
 "metadata": {
  "kernelspec": {
   "display_name": "Python 3",
   "language": "python",
   "name": "python3"
  },
  "language_info": {
   "codemirror_mode": {
    "name": "ipython",
    "version": 3
   },
   "file_extension": ".py",
   "mimetype": "text/x-python",
   "name": "python",
   "nbconvert_exporter": "python",
   "pygments_lexer": "ipython3",
   "version": "3.7.9"
  }
 },
 "nbformat": 4,
 "nbformat_minor": 4
}
