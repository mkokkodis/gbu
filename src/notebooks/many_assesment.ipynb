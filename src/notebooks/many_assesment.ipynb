{
 "cells": [
  {
   "cell_type": "markdown",
   "source": [
    "# Implementation of many-assesment recommenders\n",
    "\n",
    "- Author: Marios Kokkodis \n",
    "- email: marios.kokkodis@gmail.com \n",
    "\n",
    "> Python notes: requires PY36 for some of the packages!!"
   ],
   "metadata": {
    "collapsed": false,
    "pycharm": {
     "name": "#%% md\n"
    }
   }
  },
  {
   "cell_type": "code",
   "execution_count": 1,
   "outputs": [],
   "source": [
    "import sys\n",
    "if '../python/' not in sys.path: sys.path.insert(1, '../python/')\n",
    "from joblib import dump, load\n",
    "from sklearn.metrics import roc_curve, roc_auc_score\n",
    "from surprise.model_selection import PredefinedKFold\n",
    "import os\n",
    "from surprise import SVD\n",
    "from surprise import Dataset\n",
    "from surprise import Reader\n",
    "import pandas as pd\n",
    "import numpy as np\n",
    "from spotlight.interactions import Interactions\n",
    "from spotlight.sequence.implicit import ImplicitSequenceModel\n",
    "\n",
    "\n"
   ],
   "metadata": {
    "collapsed": false,
    "pycharm": {
     "name": "#%%\n"
    }
   }
  },
  {
   "cell_type": "markdown",
   "source": [
    "## Create the necessary files for the surprise libary"
   ],
   "metadata": {
    "collapsed": false,
    "pycharm": {
     "name": "#%% md\n"
    }
   }
  },
  {
   "cell_type": "code",
   "source": [
    "d = pd.read_csv( \"../../data/restaurant_ncv.csv\")\n",
    "d['binaryOutcome'] = np.where(d['Y_it']==0,0,1)\n",
    "d['trinaryOutcome'] = d['Y_it']/2 #to get auc score\n",
    "reader = Reader(rating_scale=(0,1.0))\n",
    "\n",
    "for fold in range(10):\n",
    "    train = d[d['set_annotation'].str.contains(pat =('train_'+str(fold))+',|train_'+str(fold)+\"$\",\n",
    "                                               regex=True)==True].copy()\n",
    "    validation = d[d['set_annotation'].str.contains(pat =('validation_'+str(fold))+',|validation_'+str(fold)+\"$\",\n",
    "                                                    regex=True)==True].copy()\n",
    "    test = d[d['set_annotation'].str.contains(pat = ('test_'+str(fold))+',|test_'+str(fold)+\"$\",\n",
    "                                              regex=True)==True].copy()\n",
    "    trainAndValidation = pd.concat([train, validation])\n",
    "\n",
    "    focalCols = ['user','itemNo','binaryOutcome','application']\n",
    "    trainAndValidation[focalCols].to_csv(\"../../data/surprise/binary_train_\"+str(fold)+\".csv\",sep=',',\n",
    "                                         encoding='utf-8',index = False,header=False)\n",
    "    test[focalCols].to_csv(\"../../data/surprise/binary_test_\"+str(fold)+\".csv\",sep=',',\n",
    "                           encoding='utf-8',index = False,header=False)\n",
    "    focalCols = ['user','itemNo','trinaryOutcome','application']\n",
    "    trainAndValidation[focalCols].to_csv(\"../../data/surprise/trinary_train_\"+str(fold)+\".csv\",sep=',',\n",
    "                                         encoding='utf-8',index = False,header=False)\n",
    "    test[focalCols].to_csv(\"../../data/surprise/trinary_test_\"+str(fold)+\".csv\",sep=',',\n",
    "                           encoding='utf-8',index = False,header=False)\n",
    "\n",
    "    #### Recsys explicit file creation\n",
    "    type = 'explicit'\n",
    "    trainAndValidation = trainAndValidation[trainAndValidation['Y_it'] > 0]\n",
    "    focalCols = ['user','itemNo','binaryOutcome','application']\n",
    "    trainAndValidation[focalCols].to_csv(\"../../data/surprise/binary_train_\"+type+str(fold)+\".csv\",sep=',',\n",
    "                                         encoding='utf-8',index = False,header=False)\n",
    "    test[focalCols].to_csv(\"../../data/surprise/binary_test_\"+type+str(fold)+\".csv\",sep=',',\n",
    "                           encoding='utf-8',index = False,header=False)\n",
    "    focalCols = ['user','itemNo','trinaryOutcome','application']\n",
    "    trainAndValidation[focalCols].to_csv(\"../../data/surprise/trinary_train_\"+type+str(fold)+\".csv\",sep=',',\n",
    "                                         encoding='utf-8',index = False,header=False)\n",
    "    test[focalCols].to_csv(\"../../data/surprise/trinary_test_\"+type+str(fold)+\".csv\",sep=',',\n",
    "                           encoding='utf-8',index = False,header=False)\n",
    "\n",
    "# create sequential user\n",
    "d = pd.read_csv( \"../../data/restaurant_ncv.csv\")\n",
    "\n",
    "userInd = 0\n",
    "userN = []\n",
    "userDict = {}\n",
    "for ind,row in d.iterrows():\n",
    "    u = row['user']\n",
    "    if u not in userDict:\n",
    "        userDict[u] = userInd\n",
    "        userInd+=1\n",
    "    userN.append(userDict[u])\n",
    "d['userN'] = userN\n",
    "d.to_csv( \"../../data/restaurant_ncv.csv\",index=False)#needs numeric id for cnn\n"
   ],
   "metadata": {
    "collapsed": false,
    "pycharm": {
     "name": "#%%\n"
    }
   },
   "execution_count": 2,
   "outputs": []
  },
  {
   "cell_type": "markdown",
   "source": [
    "\n",
    "## Run the SVD models"
   ],
   "metadata": {
    "collapsed": false,
    "pycharm": {
     "name": "#%% md\n"
    }
   }
  },
  {
   "cell_type": "code",
   "execution_count": 3,
   "outputs": [
    {
     "name": "stdout",
     "output_type": "stream",
     "text": [
      "Type: \n",
      "Type: explicit\n"
     ]
    }
   ],
   "source": [
    "\n",
    "np.random.seed(1234)\n",
    "for type in ['','explicit']:\n",
    "    print('Type:',type)\n",
    "    curpath = '/Users/mkokkodi/Dropbox/projects/current/recommendation/gbu/data/'\n",
    "    reader = Reader(rating_scale=(0,1.0),line_format='user item rating timestamp', sep=',')\n",
    "    for fold in range(10):\n",
    "        original_test = d[d['set_annotation'].str.contains(pat = ('test_'+str(fold))+',|test_'+str(fold)+\"$\",\n",
    "                                                           regex=True)==True].copy()\n",
    "        for binTrin in ['binary','trinary']:\n",
    "            test_file = os.path.expanduser(curpath +\"surprise/\"+binTrin+\"_test_\"+type+str(fold)+\".csv\")\n",
    "            train_file = os.path.expanduser(curpath+ \"surprise/\"+binTrin+\"_train_\"+type+str(fold)+\".csv\")\n",
    "            data = Dataset.load_from_folds([(train_file, test_file)],reader=reader)\n",
    "            pkf = PredefinedKFold()\n",
    "            for trainset, testset in pkf.split(data):\n",
    "                algo = SVD()\n",
    "                algo.fit(trainset)\n",
    "                predictions = algo.test(testset)\n",
    "                pvals = []\n",
    "                actualScores = []\n",
    "                curInd = 0\n",
    "                for p in predictions:\n",
    "                    pvals.append(p.est)\n",
    "                preds = pd.DataFrame(pvals)\n",
    "                preds['label_0'] = [1-x for x in pvals]\n",
    "                preds['label_1'] = pvals\n",
    "                if 'trinary' in binTrin:\n",
    "                    preds['label_2'] = pvals\n",
    "                preds['application'] = list(original_test['application'])\n",
    "                preds['task_id'] = list(original_test['task_id'])\n",
    "                preds['employer_total_tasks_so_far'] = list(original_test['employer_total_tasks_so_far'])\n",
    "                preds['truth'] = list(original_test['Y_it'])\n",
    "                preds['hire_positive_truth'] = np.where(preds['truth']==2,1,0)\n",
    "                preds['hire_negative_truth'] = np.where(preds['truth'] == 1, 1, 0)\n",
    "                preds.to_csv(\"../../data/raw_predictions/svd\"+binTrin+type+str(fold)+\".csv\",index=False)\n",
    "\n",
    "\n",
    "\n"
   ],
   "metadata": {
    "collapsed": false,
    "pycharm": {
     "name": "#%%\n"
    }
   }
  },
  {
   "cell_type": "markdown",
   "source": [
    "##  CNN\n",
    "\n",
    "- We use the spotlight library: spotlight: https://github.com/maciejkula/spotlight\n",
    "\n",
    "- This implementation relies on the following article: https://towardsdatascience.com/introduction-to-recommender-system-part-2-adoption-of-neural-network-831972c4cbf7\n"
   ],
   "metadata": {
    "collapsed": false,
    "pycharm": {
     "name": "#%% md\n"
    }
   }
  },
  {
   "cell_type": "markdown",
   "source": [
    "### Step 1: CNN Hyperparameter tuning, search in validation sets\n"
   ],
   "metadata": {
    "collapsed": false
   }
  },
  {
   "cell_type": "code",
   "execution_count": 4,
   "outputs": [],
   "source": [
    "\n",
    "def getSeqRecPreds(test,model,userVar,itemVar,ratingVar):\n",
    "    \"\"\"\n",
    "    This functions provides the sequential predictions of the CNN model.\n",
    "    \"\"\"\n",
    "    contrsSeq = {}\n",
    "    preds = []\n",
    "    actuals = []\n",
    "    for _,row in test.iterrows():\n",
    "        c = row[userVar]\n",
    "        if c not in contrsSeq:\n",
    "            contrsSeq[c] = [0]\n",
    "        pred = model.predict(contrsSeq[c])\n",
    "        cur_item = int(row[itemVar]-1)\n",
    "        if cur_item > len(pred)-1:\n",
    "            preds.append(np.nan)\n",
    "        else:\n",
    "            preds.append(pred[cur_item])\n",
    "        actuals.append(row[ratingVar])\n",
    "        if (row[ratingVar] > 0) & (int(cur_item) < len(pred)):\n",
    "            contrsSeq[c].append(cur_item)\n",
    "    preds = [np.nanmedian(preds) if np.isnan(x) else x for x in preds]\n",
    "    preds = [(i - min(preds))/(max(preds)-min(preds)) for i in preds]\n",
    "    return preds,actuals"
   ],
   "metadata": {
    "collapsed": false,
    "pycharm": {
     "name": "#%%\n"
    }
   }
  },
  {
   "cell_type": "code",
   "execution_count": 5,
   "outputs": [
    {
     "name": "stdout",
     "output_type": "stream",
     "text": [
      "Dumping grid search results in: ../../data/surprise/cnn_hyps.dict\n"
     ]
    },
    {
     "data": {
      "text/plain": "['../../data/surprise/cnn_hyps.dict']"
     },
     "execution_count": 5,
     "metadata": {},
     "output_type": "execute_result"
    }
   ],
   "source": [
    "d = pd.read_csv( \"../../data/restaurant_ncv.csv\")\n",
    "d['binaryOutcome'] = np.where(d['Y_it']==0,0,1)\n",
    "d = d.sort_values(['user',  'choicesetId', 'daysTrend', 'application'])\n",
    "fold_settings = {}\n",
    "for n_iter in [5,10,50]:\n",
    "    for cur_loss in ['pointwise','bpr','hinge','adaptive_hinge']:\n",
    "        for batch_size in [32,64,128]:\n",
    "            l=[]\n",
    "            k = \">>\".join([str(i) for i in [n_iter,cur_loss,batch_size]])\n",
    "            for fold in range(10):\n",
    "                np.random.seed(1234)\n",
    "                train = d[d['set_annotation'].str.contains(pat =('train_'+str(fold))+',|train_'+str(fold)+\"$\",\n",
    "                                                           regex=True)==True].copy()\n",
    "                test = d[d['set_annotation'].str.contains(pat =('validation_'+str(fold))+',|validation_'+str(fold)+\"$\",\n",
    "                                                          regex=True)==True].copy()\n",
    "                implcit_interactions_train = Interactions(train['userN'].values, train['item_sequential'].values,\n",
    "                                                       timestamps=train['application'].values)\n",
    "                implcit_interactions_train = implcit_interactions_train.to_sequence()\n",
    "                model = ImplicitSequenceModel(n_iter=n_iter,\n",
    "                                          representation='cnn',\n",
    "                                loss=cur_loss, batch_size = batch_size, random_state=0) #crashes if random_state=1234\n",
    "                model.fit(implcit_interactions_train)\n",
    "                pvals,actuals = getSeqRecPreds(test,model,'userN','item_sequential','binaryOutcome')\n",
    "                curAuc = roc_auc_score(np.where(test['Y_it'] == 2, 1, 0),pvals)\n",
    "                if fold not in fold_settings or  fold_settings[fold][-1] < curAuc:\n",
    "                    fold_settings[fold] = [k,curAuc]\n",
    "\n",
    "\n",
    "\n",
    "print(\"Dumping grid search results in: ../../data/surprise/cnn_hyps.dict\")\n",
    "dump(fold_settings,\"../../data/surprise/cnn_hyps.dict\")\n",
    "\n"
   ],
   "metadata": {
    "collapsed": false,
    "pycharm": {
     "name": "#%%\n"
    }
   }
  },
  {
   "cell_type": "code",
   "execution_count": 6,
   "outputs": [
    {
     "name": "stdout",
     "output_type": "stream",
     "text": [
      "Results stored in ../../data/raw_predictions/\n"
     ]
    }
   ],
   "source": [
    "#### Step 2: Run CNN\n",
    "\n",
    "params = load(\"../../data/surprise/cnn_hyps.dict\")\n",
    "d = pd.read_csv( \"../../data/restaurant_ncv.csv\")\n",
    "d['binaryOutcome'] = np.where(d['Y_it']==0,0,1)\n",
    "d = d.sort_values(['user',  'choicesetId', 'daysTrend', 'application'])\n",
    "l=[]\n",
    "for fold in range(10):\n",
    "    np.random.seed(1234)\n",
    "    train = d[d['set_annotation'].str.contains(pat =('train_'+str(fold))+',|train_'+str(fold)+\"$\",\n",
    "                                               regex=True)==True].copy()\n",
    "    validation = d[d['set_annotation'].str.contains(pat =('validation_'+str(fold))+',|validation_'+str(fold)+\"$\",\n",
    "                                                    regex=True)==True].copy()\n",
    "    test = d[d['set_annotation'].str.contains(pat = ('test_'+str(fold))+',|test_'+str(fold)+\"$\",\n",
    "                                              regex=True)==True].copy()\n",
    "    train = pd.concat([train, validation])\n",
    "\n",
    "    implcit_interactions_train = Interactions(train['userN'].values, train['item_sequential'].values,\n",
    "                                           timestamps=train['application'].values)\n",
    "    implcit_interactions_train = implcit_interactions_train.to_sequence()\n",
    "    n_iter, cur_loss, batch_size =  params[fold][0].split(\">>\")\n",
    "    n_iter = int(n_iter)\n",
    "    batch_size = int(batch_size)\n",
    "    model = ImplicitSequenceModel(n_iter=n_iter,\n",
    "                              representation='cnn',\n",
    "                              loss=cur_loss, batch_size = batch_size, random_state=0)\n",
    "    model.fit(implcit_interactions_train)\n",
    "    pvals,actuals = getSeqRecPreds(test,model,'userN','item_sequential','binaryOutcome')\n",
    "    curAuc = roc_auc_score(np.where(test['Y_it'] == 2, 1, 0),pvals)\n",
    "    preds = pd.DataFrame(pvals)\n",
    "    preds['label_0'] = [1-x for x in pvals]\n",
    "    preds['label_1'] = pvals\n",
    "    preds['application'] = list(test['application'])\n",
    "    preds['task_id'] = list(test['task_id'])\n",
    "    preds['employer_total_tasks_so_far'] = list(test['employer_total_tasks_so_far'])\n",
    "    preds['truth'] = list(test['Y_it'])\n",
    "    preds['hire_positive_truth'] = np.where(preds['truth']==2,1,0)\n",
    "    preds['hire_negative_truth'] = np.where(preds['truth'] == 1, 1, 0)\n",
    "    preds.to_csv(\"../../data/raw_predictions/cnn\"+str(fold)+\".csv\",index=False)\n",
    "    curAuc = roc_auc_score(preds['hire_positive_truth'],preds['label_1'])\n",
    "    l.append(curAuc)\n",
    "print(\"Results stored in ../../data/raw_predictions/\")"
   ],
   "metadata": {
    "collapsed": false,
    "pycharm": {
     "name": "#%%\n"
    }
   }
  }
 ],
 "metadata": {
  "kernelspec": {
   "name": "ds-py36",
   "language": "python",
   "display_name": "ds-py36"
  },
  "language_info": {
   "codemirror_mode": {
    "name": "ipython",
    "version": 2
   },
   "file_extension": ".py",
   "mimetype": "text/x-python",
   "name": "python",
   "nbconvert_exporter": "python",
   "pygments_lexer": "ipython2",
   "version": "2.7.6"
  }
 },
 "nbformat": 4,
 "nbformat_minor": 0
}
